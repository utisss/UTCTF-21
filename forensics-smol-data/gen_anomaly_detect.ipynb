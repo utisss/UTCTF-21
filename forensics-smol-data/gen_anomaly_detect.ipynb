{
 "cells": [
  {
   "cell_type": "code",
   "execution_count": 107,
   "metadata": {},
   "outputs": [],
   "source": [
    "import numpy as np\n",
    "\n",
    "rng = np.random.RandomState(420);\n",
    "\n",
    "mapping = rng.randn(69, 1)\n",
    "\n",
    "x = 100 * rng.randn(10000, 69)\n",
    "y = np.matmul(x, mapping)\n",
    "train = np.concatenate((x, y), axis=1)\n",
    "\n",
    "x_fake = 100 * rng.randn(36, 69)\n",
    "x = 100 * rng.randn(36, 69)\n",
    "y = np.matmul(x, mapping)\n",
    "outliers = np.concatenate((x_fake, y), axis=1)\n",
    "\n",
    "from sklearn.linear_model import LinearRegression\n",
    "\n",
    "reg = LinearRegression().fit(train[:,0:69], train[:,69])"
   ]
  },
  {
   "cell_type": "code",
   "execution_count": 108,
   "metadata": {},
   "outputs": [
    {
     "data": {
      "text/plain": [
       "array([[ 4.12633435e+01,  4.99428126e+00, -1.09354832e+01, ...,\n",
       "         1.50040743e+02, -9.42978237e+02, -1.00000000e+00],\n",
       "       [-5.28726219e+01, -2.39396044e+01, -8.19298455e+01, ...,\n",
       "         1.47944929e+02,  4.20183097e+02, -1.00000000e+00],\n",
       "       [ 7.66342726e+00, -3.24773663e+01,  1.12661905e+02, ...,\n",
       "         3.81664556e+01,  4.36611664e+02, -1.00000000e+00],\n",
       "       ...,\n",
       "       [ 3.31783341e+01,  2.04547977e+01, -4.17171228e+01, ...,\n",
       "         6.90538770e+01, -3.92184213e+02, -1.00000000e+00],\n",
       "       [ 6.54623705e+01,  3.19235696e+01,  3.89104524e+01, ...,\n",
       "         2.00173607e+01, -7.59336738e+02, -1.00000000e+00],\n",
       "       [ 2.45431207e+00, -9.14989123e+01, -1.86277562e+02, ...,\n",
       "         2.53462560e+01,  1.05552688e+03, -1.00000000e+00]])"
      ]
     },
     "execution_count": 108,
     "metadata": {},
     "output_type": "execute_result"
    }
   ],
   "source": [
    "labeled_regular = np.concatenate((train, np.full((10000, 1), -1)), axis=1)\n",
    "labeled_outliers = np.concatenate((outliers, np.transpose(np.array([[i for i in range(36)]]))), axis=1)\n",
    "mixed_data = np.concatenate((labeled_regular, labeled_outliers))\n",
    "np.random.shuffle(mixed_data)\n",
    "mixed_data"
   ]
  },
  {
   "cell_type": "code",
   "execution_count": 117,
   "metadata": {},
   "outputs": [
    {
     "name": "stdout",
     "output_type": "stream",
     "text": [
      "4453\n"
     ]
    }
   ],
   "source": [
    "import random\n",
    "flag = 'utflag{m4Ch1nE_1rNg_SUx_LMFa0000000}'\n",
    "lexicon = 'abcdefghijklmnopqrstuvwxyzABCDEFGHIJKLMNOPQRSTUVWXYZ1234567890{}_'\n",
    "next_flag_i = 0\n",
    "f = open(\"anomaly_detect.csv\", 'w')\n",
    "for i in range(len(mixed_data)):\n",
    "    row = mixed_data[i]\n",
    "    f.write(','.join(map(lambda f: str(f), row[:70])) + ',')\n",
    "    if(row[70] != -1):\n",
    "        f.write(flag[next_flag_i])\n",
    "        if(flag[next_flag_i] == 'E'): print(i)\n",
    "        next_flag_i+=1\n",
    "    else:\n",
    "        f.write(lexicon[random.randint(0, len(lexicon)-1)])\n",
    "    f.write('\\n')\n",
    "f.close()"
   ]
  },
  {
   "cell_type": "code",
   "execution_count": 111,
   "metadata": {},
   "outputs": [
    {
     "data": {
      "text/plain": [
       "array([[-0.48539085],\n",
       "       [-1.90515385],\n",
       "       [-0.5262218 ],\n",
       "       [-0.31354602],\n",
       "       [ 0.33070649],\n",
       "       [ 0.93853725],\n",
       "       [-0.56821116],\n",
       "       [-0.19377527],\n",
       "       [ 1.31280484],\n",
       "       [ 1.681251  ],\n",
       "       [-0.76813595],\n",
       "       [-0.76311794],\n",
       "       [-0.45737545],\n",
       "       [-2.15541652],\n",
       "       [ 0.51516947],\n",
       "       [ 0.37920962],\n",
       "       [-0.69993372],\n",
       "       [ 0.7089239 ],\n",
       "       [-0.34798538],\n",
       "       [ 1.54588781],\n",
       "       [ 0.54680904],\n",
       "       [-1.284877  ],\n",
       "       [-1.73820287],\n",
       "       [-0.51482514],\n",
       "       [ 0.37004361],\n",
       "       [-1.71219704],\n",
       "       [ 1.32854527],\n",
       "       [ 0.85180451],\n",
       "       [-1.17732503],\n",
       "       [ 1.12722017],\n",
       "       [ 0.49599207],\n",
       "       [ 1.33015894],\n",
       "       [ 0.64812082],\n",
       "       [-1.99832609],\n",
       "       [ 0.34026654],\n",
       "       [ 0.30297731],\n",
       "       [-1.01807988],\n",
       "       [ 0.36972476],\n",
       "       [-0.99125932],\n",
       "       [ 1.17140585],\n",
       "       [ 2.28693771],\n",
       "       [ 1.10545818],\n",
       "       [-0.56546254],\n",
       "       [ 0.70761329],\n",
       "       [ 0.16505748],\n",
       "       [-0.73070227],\n",
       "       [-0.52965621],\n",
       "       [-0.59603401],\n",
       "       [-0.65072001],\n",
       "       [ 0.01757337],\n",
       "       [-0.86330093],\n",
       "       [-0.85526903],\n",
       "       [ 0.06352153],\n",
       "       [-2.24336739],\n",
       "       [ 0.2619215 ],\n",
       "       [-1.12931946],\n",
       "       [-0.56196398],\n",
       "       [-1.03443857],\n",
       "       [-1.34825025],\n",
       "       [-1.86763833],\n",
       "       [ 1.56425096],\n",
       "       [-1.74863733],\n",
       "       [ 1.3871611 ],\n",
       "       [ 0.0315956 ],\n",
       "       [-0.55068869],\n",
       "       [ 0.74654001],\n",
       "       [-1.23866205],\n",
       "       [ 0.7056843 ],\n",
       "       [ 0.6183738 ]])"
      ]
     },
     "execution_count": 111,
     "metadata": {},
     "output_type": "execute_result"
    }
   ],
   "source": [
    "mapping"
   ]
  }
 ],
 "metadata": {
  "kernelspec": {
   "display_name": "Python 3",
   "language": "python",
   "name": "python3"
  },
  "language_info": {
   "codemirror_mode": {
    "name": "ipython",
    "version": 3
   },
   "file_extension": ".py",
   "mimetype": "text/x-python",
   "name": "python",
   "nbconvert_exporter": "python",
   "pygments_lexer": "ipython3",
   "version": "3.8.2"
  }
 },
 "nbformat": 4,
 "nbformat_minor": 4
}
