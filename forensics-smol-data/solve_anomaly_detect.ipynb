{
 "cells": [
  {
   "cell_type": "code",
   "execution_count": 2,
   "metadata": {},
   "outputs": [
    {
     "data": {
      "text/plain": [
       "(10036, 70)"
      ]
     },
     "execution_count": 2,
     "metadata": {},
     "output_type": "execute_result"
    }
   ],
   "source": [
    "import numpy as np\n",
    "data = np.genfromtxt('anomaly_detect (3).csv', delimiter=',')\n",
    "np.shape(data)"
   ]
  },
  {
   "cell_type": "code",
   "execution_count": 8,
   "metadata": {},
   "outputs": [
    {
     "data": {
      "text/plain": [
       "[(3281.557790131582, 8085),\n",
       " (2764.3189048719482, 5514),\n",
       " (2681.084113972239, 883),\n",
       " (2610.511979533723, 6758),\n",
       " (2214.5854478318465, 6935),\n",
       " (2091.8530674000062, 9327),\n",
       " (1950.2637516729676, 936),\n",
       " (1736.6949696896145, 3846),\n",
       " (1434.7630097847682, 79),\n",
       " (1405.3609759060146, 6046),\n",
       " (1343.0348183703063, 4820),\n",
       " (1330.760546256166, 5131),\n",
       " (1205.2897205160043, 7616),\n",
       " (1186.9228415582572, 9280),\n",
       " (1078.5358123083158, 3122),\n",
       " (1034.2046897253556, 2537),\n",
       " (1032.810835843943, 6533),\n",
       " (968.1439113968935, 2251),\n",
       " (966.7261805517275, 4453),\n",
       " (875.7377159671759, 2737),\n",
       " (762.1655020751105, 5987),\n",
       " (657.4747745704414, 569),\n",
       " (622.0922800471227, 5493),\n",
       " (591.4093372020552, 2342),\n",
       " (447.06796116040977, 2711),\n",
       " (444.020728632489, 6712),\n",
       " (400.9034086007414, 5425),\n",
       " (390.9780109936811, 783),\n",
       " (364.7919962488878, 5966),\n",
       " (306.3151427406283, 8534),\n",
       " (271.7800159133978, 5086),\n",
       " (245.05776450379813, 7482),\n",
       " (242.0714201960452, 8507),\n",
       " (209.30263925415062, 9212),\n",
       " (187.4385986110891, 4363),\n",
       " (94.64968983254221, 6478),\n",
       " (27.24462588882973, 4532),\n",
       " (26.72432920257961, 3676),\n",
       " (25.114585378745232, 4145),\n",
       " (25.074152855753937, 1519),\n",
       " (25.062909061854043, 5573),\n",
       " (24.701076613856458, 7051),\n",
       " (24.577111607739596, 497),\n",
       " (24.377542041264178, 722),\n",
       " (24.00379871677444, 4598),\n",
       " (24.000526066120074, 620),\n",
       " (23.874084386258673, 9533),\n",
       " (23.828310198081, 3605),\n",
       " (23.68019677446705, 1264),\n",
       " (23.328884292396594, 7397)]"
      ]
     },
     "execution_count": 8,
     "metadata": {},
     "output_type": "execute_result"
    }
   ],
   "source": [
    "import math\n",
    "from sklearn.linear_model import LinearRegression\n",
    "reg = LinearRegression().fit(data[:,0:69], data[:,69])\n",
    "pred = reg.predict(data[:,0:69])\n",
    "scores = [(abs(pred[i] - data[i,69]), i) for i in range(len(data))]\n",
    "scores = sorted(scores, key=lambda k: -k[0])\n",
    "scores[:50]"
   ]
  },
  {
   "cell_type": "code",
   "execution_count": 9,
   "metadata": {},
   "outputs": [
    {
     "name": "stdout",
     "output_type": "stream",
     "text": [
      "u\n",
      "\n",
      "t\n",
      "\n",
      "f\n",
      "\n",
      "l\n",
      "\n",
      "a\n",
      "\n",
      "g\n",
      "\n",
      "{\n",
      "\n",
      "m\n",
      "\n",
      "4\n",
      "\n",
      "C\n",
      "\n",
      "h\n",
      "\n",
      "1\n",
      "\n",
      "n\n",
      "\n",
      "E\n",
      "\n",
      "_\n",
      "\n",
      "1\n",
      "\n",
      "r\n",
      "\n",
      "N\n",
      "\n",
      "g\n",
      "\n",
      "_\n",
      "\n",
      "S\n",
      "\n",
      "U\n",
      "\n",
      "x\n",
      "\n",
      "_\n",
      "\n",
      "L\n",
      "\n",
      "M\n",
      "\n",
      "F\n",
      "\n",
      "a\n",
      "\n",
      "0\n",
      "\n",
      "0\n",
      "\n",
      "0\n",
      "\n",
      "0\n",
      "\n",
      "0\n",
      "\n",
      "0\n",
      "\n",
      "0\n",
      "\n",
      "}\n",
      "\n"
     ]
    }
   ],
   "source": [
    "anom = scores[:36]\n",
    "with open(\"anomaly_detect (2).csv\") as orig:\n",
    "    for i, line in enumerate(orig):\n",
    "        if i-1 in [a[1] for a in anom]:\n",
    "            print(line.split(',')[-1])\n"
   ]
  },
  {
   "cell_type": "code",
   "execution_count": null,
   "metadata": {},
   "outputs": [],
   "source": []
  }
 ],
 "metadata": {
  "kernelspec": {
   "display_name": "Python 3",
   "language": "python",
   "name": "python3"
  },
  "language_info": {
   "codemirror_mode": {
    "name": "ipython",
    "version": 3
   },
   "file_extension": ".py",
   "mimetype": "text/x-python",
   "name": "python",
   "nbconvert_exporter": "python",
   "pygments_lexer": "ipython3",
   "version": "3.8.2"
  }
 },
 "nbformat": 4,
 "nbformat_minor": 4
}
